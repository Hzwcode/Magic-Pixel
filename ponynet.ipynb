{
 "cells": [
  {
   "cell_type": "code",
   "execution_count": null,
   "metadata": {
    "collapsed": false
   },
   "outputs": [],
   "source": [
    "# Here is the notebook where we developed intuition about the problem\n",
    "# This is, we believe, a good example of visualization driven developement for deep learning\n",
    "\n",
    "%pylab inline\n",
    "import numpy as np"
   ]
  },
  {
   "cell_type": "code",
   "execution_count": 32,
   "metadata": {
    "collapsed": false
   },
   "outputs": [],
   "source": [
    "def pony(I, r):\n",
    "    assert len(I.shape) == 3\n",
    "    assert r>0\n",
    "    r = int(r)\n",
    "    O = np.zeros((I.shape[0]*r, I.shape[1]*r, I.shape[2]/(r*2)))\n",
    "    for x in range(O.shape[0]):\n",
    "        for y in range(O.shape[1]):\n",
    "            for c in range(O.shape[2]):\n",
    "                c += 1\n",
    "                a = np.floor(x/r).astype(\"int\")\n",
    "                b = np.floor(y/r).astype(\"int\")\n",
    "                d = c*r*(y%r) + c*(x%r)\n",
    "                print a, b, d\n",
    "                O[x, y, c-1] = I[a, b, d]\n",
    "    return O"
   ]
  },
  {
   "cell_type": "code",
   "execution_count": 33,
   "metadata": {
    "collapsed": false
   },
   "outputs": [],
   "source": [
    "I = np.concatenate([np.ones((8, 8, 1))*0, 20*np.ones((8, 8, 1)), 30*np.ones((8, 8, 1)), 40*np.ones((8, 8, 1))], axis=-1)"
   ]
  },
  {
   "cell_type": "code",
   "execution_count": 38,
   "metadata": {
    "collapsed": false
   },
   "outputs": [
    {
     "data": {
      "text/plain": [
       "<matplotlib.image.AxesImage at 0x7f9532c97b50>"
      ]
     },
     "execution_count": 38,
     "metadata": {},
     "output_type": "execute_result"
    },
    {
     "data": {
      "image/png": "[encoded data removed]",
      "text/plain": [
       "<matplotlib.figure.Figure at 0x7f9532dac610>"
      ]
     },
     "metadata": {},
     "output_type": "display_data"
    }
   ],
   "source": [
    "imshow(O[:, :, 0], interpolation=\"none\")"
   ]
  },
  {
   "cell_type": "code",
   "execution_count": 49,
   "metadata": {
    "collapsed": false
   },
   "outputs": [
    {
     "data": {
      "text/plain": [
       "<matplotlib.image.AxesImage at 0x7f9532bdd850>"
      ]
     },
     "execution_count": 49,
     "metadata": {},
     "output_type": "execute_result"
    },
    {
     "data": {
      "image/png": "[encoded data removed]",
      "text/plain": [
       "<matplotlib.figure.Figure at 0x7f9532c3c1d0>"
      ]
     },
     "metadata": {},
     "output_type": "display_data"
    }
   ],
   "source": [
    "imshow(I.reshape(16, 16), interpolation=\"none\")"
   ]
  },
  {
   "cell_type": "code",
   "execution_count": 52,
   "metadata": {
    "collapsed": false
   },
   "outputs": [
    {
     "name": "stdout",
     "output_type": "stream",
     "text": [
      "(128, 2)\n"
     ]
    },
    {
     "data": {
      "text/plain": [
       "<matplotlib.image.AxesImage at 0x7f953298a650>"
      ]
     },
     "execution_count": 52,
     "metadata": {},
     "output_type": "execute_result"
    },
    {
     "data": {
      "image/png": "[encoded data removed]",
      "text/plain": [
       "<matplotlib.figure.Figure at 0x7f9532ace410>"
      ]
     },
     "metadata": {},
     "output_type": "display_data"
    }
   ],
   "source": [
    "A = I.reshape(-1, 2, 2)\n",
    "A = np.concatenate([i for i in A], axis=0)\n",
    "print A.shape\n",
    "imshow(A, interpolation=\"none\")"
   ]
  },
  {
   "cell_type": "code",
   "execution_count": 67,
   "metadata": {
    "collapsed": false
   },
   "outputs": [],
   "source": [
    "B = I.reshape(8, 8, 2, 2)"
   ]
  },
  {
   "cell_type": "code",
   "execution_count": 68,
   "metadata": {
    "collapsed": false
   },
   "outputs": [
    {
     "name": "stdout",
     "output_type": "stream",
     "text": [
      "(8, 16, 2)\n"
     ]
    }
   ],
   "source": [
    "B = np.concatenate([B[i] for i in range(8)], axis=1)\n",
    "print B.shape"
   ]
  },
  {
   "cell_type": "code",
   "execution_count": 69,
   "metadata": {
    "collapsed": false
   },
   "outputs": [
    {
     "name": "stdout",
     "output_type": "stream",
     "text": [
      "(16, 2, 8)\n"
     ]
    }
   ],
   "source": [
    "B = B.transpose(1, 2, 0)\n",
    "print B.shape"
   ]
  },
  {
   "cell_type": "code",
   "execution_count": 70,
   "metadata": {
    "collapsed": false
   },
   "outputs": [
    {
     "name": "stdout",
     "output_type": "stream",
     "text": [
      "(16, 16)\n"
     ]
    }
   ],
   "source": [
    "B = np.concatenate([B[:, :, i] for i in range(8)], axis=1)\n",
    "print B.shape"
   ]
  },
  {
   "cell_type": "code",
   "execution_count": 71,
   "metadata": {
    "collapsed": false
   },
   "outputs": [
    {
     "data": {
      "text/plain": [
       "<matplotlib.image.AxesImage at 0x7f95327eb610>"
      ]
     },
     "execution_count": 71,
     "metadata": {},
     "output_type": "execute_result"
    },
    {
     "data": {
      "image/png": "[encoded data removed]",
      "text/plain": [
       "<matplotlib.figure.Figure at 0x7f9532ace490>"
      ]
     },
     "metadata": {},
     "output_type": "display_data"
    }
   ],
   "source": [
    "imshow(B, interpolation=\"none\")"
   ]
  },
  {
   "cell_type": "code",
   "execution_count": 72,
   "metadata": {
    "collapsed": true
   },
   "outputs": [],
   "source": [
    "def pony2(I, r):\n",
    "    B = I.reshape(8, 8, 2, 2).transpose(0, 1, 3, 2)\n",
    "    B = np.concatenate([B[i] for i in range(8)], axis=1)\n",
    "    B = B.transpose(1, 2, 0)\n",
    "    B = np.concatenate([B[:, :, i] for i in range(8)], axis=1)\n",
    "    return B"
   ]
  },
  {
   "cell_type": "code",
   "execution_count": 73,
   "metadata": {
    "collapsed": false
   },
   "outputs": [],
   "source": [
    "B = pony2(I)\n",
    "imshow(B, interpolation=\"none\")"
   ]
  },
  {
   "cell_type": "code",
   "execution_count": 75,
   "metadata": {
    "collapsed": false
   },
   "outputs": [],
   "source": [
    "I = np.arange(16*16).reshape(8, 8, 4)\n",
    "A = pony(I, 2)\n",
    "B = pony2(I)"
   ]
  },
  {
   "cell_type": "code",
   "execution_count": 79,
   "metadata": {
    "collapsed": false
   },
   "outputs": [],
   "source": [
    "imshow(A[:, :, 0], interpolation=\"none\")"
   ]
  },
  {
   "cell_type": "code",
   "execution_count": 80,
   "metadata": {
    "collapsed": false
   },
   "outputs": [],
   "source": [
    "imshow(B, interpolation=\"none\")"
   ]
  },
  {
   "cell_type": "code",
   "execution_count": 81,
   "metadata": {
    "collapsed": false
   },
   "outputs": [],
   "source": [
    "A"
   ]
  },
  {
   "cell_type": "code",
   "execution_count": 83,
   "metadata": {
    "collapsed": false
   },
   "outputs": [],
   "source": [
    "B == A[:, :, 0]"
   ]
  },
  {
   "cell_type": "code",
   "execution_count": null,
   "metadata": {
    "collapsed": true
   },
   "outputs": [],
   "source": [
    "def pony2(I, r):\n",
    "    a, b, c = I.shape\n",
    "    B = I.reshape(a/r, b/r, r, r).transpose(0, 1, 3, 2)\n",
    "    B = np.concatenate([B[i] for i in range(8)], axis=1)\n",
    "    B = B.transpose(1, 2, 0)\n",
    "    B = np.concatenate([B[:, :, i] for i in range(8)], axis=1)\n",
    "    return B"
   ]
  }
 ],
 "metadata": {
  "anaconda-cloud": {},
  "kernelspec": {
   "display_name": "Python [Root]",
   "language": "python",
   "name": "Python [Root]"
  },
  "language_info": {
   "codemirror_mode": {
    "name": "ipython",
    "version": 2.0
   },
   "file_extension": ".py",
   "mimetype": "text/x-python",
   "name": "python",
   "nbconvert_exporter": "python",
   "pygments_lexer": "ipython2",
   "version": "2.7.12"
  }
 },
 "nbformat": 4,
 "nbformat_minor": 0
}